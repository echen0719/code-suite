{
  "nbformat": 4,
  "nbformat_minor": 0,
  "metadata": {
    "colab": {
      "provenance": [],
      "toc_visible": true,
      "gpuType": "T4",
      "authorship_tag": "ABX9TyPb8hulUmwKqAvrPwcsHlrU",
      "include_colab_link": true
    },
    "kernelspec": {
      "name": "python3",
      "display_name": "Python 3"
    },
    "language_info": {
      "name": "python"
    },
    "accelerator": "GPU"
  },
  "cells": [
    {
      "cell_type": "markdown",
      "metadata": {
        "id": "view-in-github",
        "colab_type": "text"
      },
      "source": [
        "<a href=\"https://colab.research.google.com/github/echen0719/code-suite/blob/main/Machine%20Learning/machineLearning.ipynb\" target=\"_parent\"><img src=\"https://colab.research.google.com/assets/colab-badge.svg\" alt=\"Open In Colab\"/></a>"
      ]
    },
    {
      "cell_type": "code",
      "source": [
        "import torch\n",
        "\n",
        "CUDA = \"cuda\"\n",
        "CPU = \"cpu\"\n",
        "if torch.cuda.is_available(): device = CUDA\n",
        "else: device = CPU\n",
        "\n",
        "if device == CUDA:\n",
        "  tensor = torch.tensor([1, 2, 3]).to(device)\n",
        "  print(tensor)\n",
        "else:\n",
        "  tensor = torch.tensor([1, 2, 3])\n",
        "  print(tensor)"
      ],
      "metadata": {
        "colab": {
          "base_uri": "https://localhost:8080/"
        },
        "id": "2TnJh_rfuBvc",
        "outputId": "6601b05b-9915-4511-a521-0bbe33fb81e1"
      },
      "execution_count": 4,
      "outputs": [
        {
          "output_type": "stream",
          "name": "stdout",
          "text": [
            "tensor([1, 2, 3])\n"
          ]
        }
      ]
    }
  ]
}